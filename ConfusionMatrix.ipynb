{
  "nbformat": 4,
  "nbformat_minor": 0,
  "metadata": {
    "colab": {
      "provenance": [],
      "authorship_tag": "ABX9TyN3lYijZDRv+kWvfgyb4viO",
      "include_colab_link": true
    },
    "kernelspec": {
      "name": "python3",
      "display_name": "Python 3"
    },
    "language_info": {
      "name": "python"
    }
  },
  "cells": [
    {
      "cell_type": "markdown",
      "metadata": {
        "id": "view-in-github",
        "colab_type": "text"
      },
      "source": [
        "<a href=\"https://colab.research.google.com/github/NatashaB-randao/Formacao-Machine-Learning-Specialist/blob/main/ConfusionMatrix.ipynb\" target=\"_parent\"><img src=\"https://colab.research.google.com/assets/colab-badge.svg\" alt=\"Open In Colab\"/></a>"
      ]
    },
    {
      "cell_type": "code",
      "execution_count": 1,
      "metadata": {
        "id": "xqBiarrporM0"
      },
      "outputs": [],
      "source": [
        "!pip install -q tensorflow"
      ]
    },
    {
      "cell_type": "code",
      "source": [
        "from tensorflow.keras import datasets, layers, models\n",
        "import matplotlib.pyplot as plt\n",
        "import tensorflow as tf\n",
        "\n",
        "import numpy as np\n",
        "\n",
        "import seaborn as sns\n",
        "\n",
        "import pandas as pd\n",
        "\n",
        "import tensorflow as tf\n",
        "from tensorflow import keras\n",
        "\n",
        "import io"
      ],
      "metadata": {
        "id": "u3O0KPRnqw8A"
      },
      "execution_count": 2,
      "outputs": []
    },
    {
      "cell_type": "code",
      "source": [
        "tf.__version__"
      ],
      "metadata": {
        "colab": {
          "base_uri": "https://localhost:8080/",
          "height": 35
        },
        "id": "lzD8y4NxrcV1",
        "outputId": "d1b274b0-0482-436d-bff6-4e0b5f9dd5db"
      },
      "execution_count": 3,
      "outputs": [
        {
          "output_type": "execute_result",
          "data": {
            "text/plain": [
              "'2.17.1'"
            ],
            "application/vnd.google.colaboratory.intrinsic+json": {
              "type": "string"
            }
          },
          "metadata": {},
          "execution_count": 3
        }
      ]
    },
    {
      "cell_type": "code",
      "source": [
        "%load_ext tensorboard"
      ],
      "metadata": {
        "id": "zVzPZIljr57L"
      },
      "execution_count": 4,
      "outputs": []
    },
    {
      "cell_type": "code",
      "source": [
        "logdir='log'"
      ],
      "metadata": {
        "id": "WAlaQ7jZr9s7"
      },
      "execution_count": 5,
      "outputs": []
    },
    {
      "cell_type": "code",
      "source": [
        "(train_images, train_labels), (test_images, test_labels) = datasets.mnist.load_data()\n",
        "\n",
        "train_images = train_images.reshape((60000, 28, 28, 1))\n",
        "test_images = test_images.reshape((10000, 28, 28, 1))\n",
        "\n",
        "train_images, test_images = train_images / 255.0, test_images / 255.0\n",
        "\n",
        "classes=[0,1,2,3,4,5,6,7,8,9]"
      ],
      "metadata": {
        "id": "WJ3uBlvdSMWE",
        "colab": {
          "base_uri": "https://localhost:8080/"
        },
        "outputId": "cdc39ee9-0851-48b9-d9bc-4203bb8b01de"
      },
      "execution_count": 6,
      "outputs": [
        {
          "output_type": "stream",
          "name": "stdout",
          "text": [
            "Downloading data from https://storage.googleapis.com/tensorflow/tf-keras-datasets/mnist.npz\n",
            "\u001b[1m11490434/11490434\u001b[0m \u001b[32m━━━━━━━━━━━━━━━━━━━━\u001b[0m\u001b[37m\u001b[0m \u001b[1m0s\u001b[0m 0us/step\n"
          ]
        }
      ]
    },
    {
      "cell_type": "code",
      "source": [
        "model = models.Sequential()\n",
        "model.add(layers.Conv2D(32, (3, 3), activation='relu', input_shape=(28, 28, 1)))\n",
        "model.add(layers.MaxPooling2D((2, 2)))\n",
        "model.add(layers.Conv2D(64, (3, 3), activation='relu'))\n",
        "model.add(layers.MaxPooling2D((2, 2)))\n",
        "model.add(layers.Conv2D(64, (3, 3), activation='relu'))\n",
        "\n",
        "model.add(layers.Flatten())\n",
        "model.add(layers.Dense(64, activation='relu'))\n",
        "model.add(layers.Dense(10, activation='softmax'))\n"
      ],
      "metadata": {
        "id": "V-ctzoS2TB0-",
        "colab": {
          "base_uri": "https://localhost:8080/"
        },
        "outputId": "e7f0ed14-2a02-4643-c880-85edeead2d8d"
      },
      "execution_count": 7,
      "outputs": [
        {
          "output_type": "stream",
          "name": "stderr",
          "text": [
            "/usr/local/lib/python3.10/dist-packages/keras/src/layers/convolutional/base_conv.py:107: UserWarning: Do not pass an `input_shape`/`input_dim` argument to a layer. When using Sequential models, prefer using an `Input(shape)` object as the first layer in the model instead.\n",
            "  super().__init__(activity_regularizer=activity_regularizer, **kwargs)\n"
          ]
        }
      ]
    },
    {
      "cell_type": "code",
      "source": [
        "tensorboard_callback = tf.keras.callbacks.TensorBoard(logdir, histogram_freq=1)"
      ],
      "metadata": {
        "id": "F6owoIN0TjIZ"
      },
      "execution_count": 8,
      "outputs": []
    },
    {
      "cell_type": "code",
      "source": [
        "model.compile(optimizer='adam',\n",
        "              loss='sparse_categorical_crossentropy',\n",
        "              metrics=['accuracy'])\n",
        "\n",
        "model.fit(train_images, train_labels, epochs=5, callbacks=[tensorboard_callback])"
      ],
      "metadata": {
        "colab": {
          "base_uri": "https://localhost:8080/"
        },
        "id": "IuTn7HjTT356",
        "outputId": "5517bfd6-90b6-4518-8aca-6aa36c7afc99"
      },
      "execution_count": 9,
      "outputs": [
        {
          "output_type": "stream",
          "name": "stdout",
          "text": [
            "Epoch 1/5\n",
            "\u001b[1m1875/1875\u001b[0m \u001b[32m━━━━━━━━━━━━━━━━━━━━\u001b[0m\u001b[37m\u001b[0m \u001b[1m69s\u001b[0m 33ms/step - accuracy: 0.8986 - loss: 0.3311\n",
            "Epoch 2/5\n",
            "\u001b[1m1875/1875\u001b[0m \u001b[32m━━━━━━━━━━━━━━━━━━━━\u001b[0m\u001b[37m\u001b[0m \u001b[1m77s\u001b[0m 31ms/step - accuracy: 0.9854 - loss: 0.0474\n",
            "Epoch 3/5\n",
            "\u001b[1m1875/1875\u001b[0m \u001b[32m━━━━━━━━━━━━━━━━━━━━\u001b[0m\u001b[37m\u001b[0m \u001b[1m80s\u001b[0m 30ms/step - accuracy: 0.9900 - loss: 0.0339\n",
            "Epoch 4/5\n",
            "\u001b[1m1875/1875\u001b[0m \u001b[32m━━━━━━━━━━━━━━━━━━━━\u001b[0m\u001b[37m\u001b[0m \u001b[1m80s\u001b[0m 29ms/step - accuracy: 0.9927 - loss: 0.0224\n",
            "Epoch 5/5\n",
            "\u001b[1m1875/1875\u001b[0m \u001b[32m━━━━━━━━━━━━━━━━━━━━\u001b[0m\u001b[37m\u001b[0m \u001b[1m81s\u001b[0m 29ms/step - accuracy: 0.9935 - loss: 0.0194\n"
          ]
        },
        {
          "output_type": "execute_result",
          "data": {
            "text/plain": [
              "<keras.src.callbacks.history.History at 0x7e1c84ddc7c0>"
            ]
          },
          "metadata": {},
          "execution_count": 9
        }
      ]
    },
    {
      "cell_type": "code",
      "source": [
        "import numpy as np\n",
        "\n",
        "y_true = test_labels\n",
        "y_pred = np.argmax(model.predict(test_images), axis=-1) # Get class labels with highest probability"
      ],
      "metadata": {
        "colab": {
          "base_uri": "https://localhost:8080/"
        },
        "id": "U7NnKVhHVtKS",
        "outputId": "6525a558-13b9-4948-e29f-8381fb9874e5"
      },
      "execution_count": 10,
      "outputs": [
        {
          "output_type": "stream",
          "name": "stdout",
          "text": [
            "\u001b[1m313/313\u001b[0m \u001b[32m━━━━━━━━━━━━━━━━━━━━\u001b[0m\u001b[37m\u001b[0m \u001b[1m3s\u001b[0m 10ms/step\n"
          ]
        }
      ]
    },
    {
      "cell_type": "code",
      "source": [
        "classes=[0,1,2,3,4,5,6,7,8,9]"
      ],
      "metadata": {
        "id": "W4MB6PwNXySn"
      },
      "execution_count": 11,
      "outputs": []
    },
    {
      "cell_type": "code",
      "source": [
        "con_mat = tf.math.confusion_matrix(labels=y_true,predictions=y_pred).numpy()\n",
        "con_mat_norm = np.around(con_mat.astype('float') / con_mat.sum(axis=1)[:, np.newaxis], decimals=2)\n",
        "\n",
        "con_mat_df = pd.DataFrame(con_mat_norm,\n",
        "                     index = classes,\n",
        "                     columns = classes)\n",
        "\n",
        "figure = plt.figure(figsize=(8, 8))\n",
        "sns.heatmap(con_mat_df, annot=True,cmap=plt.cm.Blues)\n",
        "plt.tight_layout()\n",
        "plt.ylabel('True label')\n",
        "plt.xlabel('Predicted label')\n",
        "plt.show()"
      ],
      "metadata": {
        "colab": {
          "base_uri": "https://localhost:8080/",
          "height": 826
        },
        "id": "HWd9WRc6X4Db",
        "outputId": "f12a5583-cda0-4758-847a-72102ddd283c"
      },
      "execution_count": 12,
      "outputs": [
        {
          "output_type": "display_data",
          "data": {
            "text/plain": [
              "<Figure size 800x800 with 2 Axes>"
            ],
            "image/png": "[encoded data removed]"
          },
          "metadata": {}
        }
      ]
    },
    {
      "cell_type": "code",
      "source": [
        "model1 = models.Sequential()\n",
        "model1.add(layers.Conv2D(32, (3, 3), activation='relu', input_shape=(28, 28, 1)))\n",
        "model1.add(layers.MaxPooling2D((2, 2)))\n",
        "# Corrected: Adding layers to model1 instead of model\n",
        "model1.add(layers.Conv2D(64, (3, 3), activation='relu'))\n",
        "model1.add(layers.MaxPooling2D((2, 2)))\n",
        "model1.add(layers.Conv2D(64, (3, 3), activation='relu'))\n",
        "\n",
        "model1.add(layers.Flatten())\n",
        "model1.add(layers.Dense(64, activation='relu'))\n",
        "model1.add(layers.Dense(10, activation='softmax'))\n",
        "\n",
        "model1.compile(optimizer='adam',\n",
        "              loss='sparse_categorical_crossentropy',\n",
        "              metrics=['accuracy'])\n",
        "\n",
        "model1.fit(train_images, train_labels, epochs=5, callbacks=[tensorboard_callback])"
      ],
      "metadata": {
        "colab": {
          "base_uri": "https://localhost:8080/"
        },
        "id": "Nwo5FyXIaoge",
        "outputId": "8ee802eb-434f-464c-eec8-83dab0bac6b2"
      },
      "execution_count": 13,
      "outputs": [
        {
          "metadata": {
            "tags": null
          },
          "name": "stderr",
          "output_type": "stream",
          "text": [
            "/usr/local/lib/python3.10/dist-packages/keras/src/layers/convolutional/base_conv.py:107: UserWarning: Do not pass an `input_shape`/`input_dim` argument to a layer. When using Sequential models, prefer using an `Input(shape)` object as the first layer in the model instead.\n",
            "  super().__init__(activity_regularizer=activity_regularizer, **kwargs)\n"
          ]
        },
        {
          "output_type": "stream",
          "name": "stdout",
          "text": [
            "Epoch 1/5\n",
            "\u001b[1m1875/1875\u001b[0m \u001b[32m━━━━━━━━━━━━━━━━━━━━\u001b[0m\u001b[37m\u001b[0m \u001b[1m59s\u001b[0m 31ms/step - accuracy: 0.8850 - loss: 0.3697\n",
            "Epoch 2/5\n",
            "\u001b[1m1875/1875\u001b[0m \u001b[32m━━━━━━━━━━━━━━━━━━━━\u001b[0m\u001b[37m\u001b[0m \u001b[1m56s\u001b[0m 30ms/step - accuracy: 0.9827 - loss: 0.0535\n",
            "Epoch 3/5\n",
            "\u001b[1m1875/1875\u001b[0m \u001b[32m━━━━━━━━━━━━━━━━━━━━\u001b[0m\u001b[37m\u001b[0m \u001b[1m85s\u001b[0m 31ms/step - accuracy: 0.9876 - loss: 0.0375\n",
            "Epoch 4/5\n",
            "\u001b[1m1875/1875\u001b[0m \u001b[32m━━━━━━━━━━━━━━━━━━━━\u001b[0m\u001b[37m\u001b[0m \u001b[1m82s\u001b[0m 31ms/step - accuracy: 0.9916 - loss: 0.0284\n",
            "Epoch 5/5\n",
            "\u001b[1m1875/1875\u001b[0m \u001b[32m━━━━━━━━━━━━━━━━━━━━\u001b[0m\u001b[37m\u001b[0m \u001b[1m81s\u001b[0m 30ms/step - accuracy: 0.9932 - loss: 0.0210\n"
          ]
        },
        {
          "output_type": "execute_result",
          "data": {
            "text/plain": [
              "<keras.src.callbacks.history.History at 0x7e1c61d45f30>"
            ]
          },
          "metadata": {},
          "execution_count": 13
        }
      ]
    },
    {
      "cell_type": "code",
      "source": [
        "file_writer = tf.summary.create_file_writer(logdir + '/cm')\n",
        "\n",
        "def log_confusion_matrix(epoch, logs):\n",
        "  test_pred_raw = model1.predict(test_images)\n",
        "  test_pred = np.argmax(test_pred_raw, axis=1)\n",
        "\n",
        "  con_mat = tf.math.confusion_matrix(labels=test_labels,predictions=test_pred).numpy()\n",
        "  con_mat_norm = np.around(con_mat.astype('float') / con_mat.sum(axis=1)[:, np.newaxis], decimals=2)\n",
        "\n",
        "  con_mat_df = pd.DataFrame(con_mat_norm,\n",
        "                     index = classes,\n",
        "                     columns = classes)\n",
        "\n",
        "  figure = plt.figure(figsize=(8, 8))\n",
        "  sns.heatmap(con_mat_df, annot=True,cmap=plt.cm.Blues)\n",
        "  plt.tight_layout()\n",
        "  plt.ylabel('True label')\n",
        "  plt.xlabel('Predicted label')\n",
        "\n",
        "  buf = io.BytesIO()\n",
        "  plt.savefig(buf, format='png')\n",
        "\n",
        "  plt.close(figure)\n",
        "  buf.seek(0)\n",
        "  imagel = tf.image.decode_png(buf.getvalue(), channels=4)\n",
        "  imagel = tf.expand_dims(imagel, 0)\n",
        "\n",
        "\n",
        "  with file_writer.as_default():\n",
        "    tf.summary.image(\"Confusion Matrix\", imagel, step=epoch)\n",
        "\n",
        "\n",
        "logdir = 'logs/images'\n",
        "\n",
        "tensorboard_callback = tf.keras.callbacks.TensorBoard(log_dir=logdir)\n",
        "\n",
        "cm_callback = keras.callbacks.LambdaCallback(on_epoch_end=log_confusion_matrix)"
      ],
      "metadata": {
        "id": "FIpdSQZbeDlq"
      },
      "execution_count": 14,
      "outputs": []
    },
    {
      "cell_type": "code",
      "source": [
        "model1.fit(\n",
        "    train_images,\n",
        "    train_labels,\n",
        "    epochs=5, callbacks=[tensorboard_callback, cm_callback],\n",
        "    validation_data=(test_images, test_labels),\n",
        ")"
      ],
      "metadata": {
        "colab": {
          "base_uri": "https://localhost:8080/"
        },
        "id": "DlzKKEL-gFau",
        "outputId": "acdc9796-6c25-46f8-86cd-52b8e6483a32"
      },
      "execution_count": 15,
      "outputs": [
        {
          "output_type": "stream",
          "name": "stdout",
          "text": [
            "Epoch 1/5\n",
            "\u001b[1m313/313\u001b[0m \u001b[32m━━━━━━━━━━━━━━━━━━━━\u001b[0m\u001b[37m\u001b[0m \u001b[1m3s\u001b[0m 11ms/step\n",
            "\u001b[1m1875/1875\u001b[0m \u001b[32m━━━━━━━━━━━━━━━━━━━━\u001b[0m\u001b[37m\u001b[0m \u001b[1m65s\u001b[0m 34ms/step - accuracy: 0.9941 - loss: 0.0183 - val_accuracy: 0.9909 - val_loss: 0.0288\n",
            "Epoch 2/5\n",
            "\u001b[1m313/313\u001b[0m \u001b[32m━━━━━━━━━━━━━━━━━━━━\u001b[0m\u001b[37m\u001b[0m \u001b[1m4s\u001b[0m 13ms/step\n",
            "\u001b[1m1875/1875\u001b[0m \u001b[32m━━━━━━━━━━━━━━━━━━━━\u001b[0m\u001b[37m\u001b[0m \u001b[1m82s\u001b[0m 34ms/step - accuracy: 0.9955 - loss: 0.0139 - val_accuracy: 0.9917 - val_loss: 0.0240\n",
            "Epoch 3/5\n",
            "\u001b[1m313/313\u001b[0m \u001b[32m━━━━━━━━━━━━━━━━━━━━\u001b[0m\u001b[37m\u001b[0m \u001b[1m3s\u001b[0m 9ms/step\n",
            "\u001b[1m1875/1875\u001b[0m \u001b[32m━━━━━━━━━━━━━━━━━━━━\u001b[0m\u001b[37m\u001b[0m \u001b[1m85s\u001b[0m 36ms/step - accuracy: 0.9963 - loss: 0.0109 - val_accuracy: 0.9924 - val_loss: 0.0269\n",
            "Epoch 4/5\n",
            "\u001b[1m313/313\u001b[0m \u001b[32m━━━━━━━━━━━━━━━━━━━━\u001b[0m\u001b[37m\u001b[0m \u001b[1m3s\u001b[0m 10ms/step\n",
            "\u001b[1m1875/1875\u001b[0m \u001b[32m━━━━━━━━━━━━━━━━━━━━\u001b[0m\u001b[37m\u001b[0m \u001b[1m78s\u001b[0m 34ms/step - accuracy: 0.9970 - loss: 0.0094 - val_accuracy: 0.9923 - val_loss: 0.0293\n",
            "Epoch 5/5\n",
            "\u001b[1m313/313\u001b[0m \u001b[32m━━━━━━━━━━━━━━━━━━━━\u001b[0m\u001b[37m\u001b[0m \u001b[1m3s\u001b[0m 9ms/step\n",
            "\u001b[1m1875/1875\u001b[0m \u001b[32m━━━━━━━━━━━━━━━━━━━━\u001b[0m\u001b[37m\u001b[0m \u001b[1m82s\u001b[0m 34ms/step - accuracy: 0.9969 - loss: 0.0095 - val_accuracy: 0.9907 - val_loss: 0.0351\n"
          ]
        },
        {
          "output_type": "execute_result",
          "data": {
            "text/plain": [
              "<keras.src.callbacks.history.History at 0x7e1c61d473a0>"
            ]
          },
          "metadata": {},
          "execution_count": 15
        }
      ]
    },
    {
      "cell_type": "code",
      "source": [
        "from sklearn.metrics import precision_score, recall_score, f1_score, confusion_matrix\n",
        "\n",
        "\n",
        "# Calcular as métricas\n",
        "def calcular_metricas(y_true, y_pred):\n",
        "  # Calculando Matriz de Confusão\n",
        "  con_mat = confusion_matrix(y_true, y_pred)\n",
        "\n",
        "  # Extrair valores da matriz de confusão\n",
        "  VP = np.diag(con_mat)\n",
        "  FN = np.sum(con_mat, axis=1) - VP\n",
        "  FP = np.sum(con_mat, axis=0) - VP\n",
        "  VN = np.sum(con_mat) - (VP + FN + FP)\n",
        "\n",
        "  # Calcular métricas\n",
        "  acuracia = (VP + VN) / (VP + VN + FP + FN)\n",
        "  sensibilidade = VP / (VP + FN)\n",
        "  especificidade = VN / (VN + FP)\n",
        "  precisao = VP / (VP + FP)\n",
        "  f_score = 2 * (precisao * sensibilidade) / (precisao + sensibilidade)\n",
        "\n",
        "  # Resultados\n",
        "  print(\"Métricas de Avaliação:\")\n",
        "  print(f\"Acurácia: {acuracia.mean():.4f}\")\n",
        "  print(f\"Sensibilidade (Recall): {sensibilidade.mean():.4f}\")\n",
        "  print(f\"Especificidade: {especificidade.mean():.4f}\")\n",
        "  print(f\"Precisão: {precisao.mean():.4f}\")\n",
        "  print(f\"F-Score: {f_score.mean():.4f}\")\n",
        "\n",
        "  return {\n",
        "      'Acurácia': acuracia.mean(),\n",
        "      'Sensibilidade': sensibilidade.mean(),\n",
        "      'Especificidade': especificidade.mean(),\n",
        "      'Precisão': precisao.mean(),\n",
        "      'F-Score': f_score.mean()\n",
        "  }\n",
        "\n",
        "\n",
        "# Predição com o modelo\n",
        "y_pred = np.argmax(model1.predict(test_images), axis=-1)\n",
        "\n",
        "# Calcular as métricas\n",
        "metricas = calcular_metricas(test_labels, y_pred)\n",
        "\n"
      ],
      "metadata": {
        "colab": {
          "base_uri": "https://localhost:8080/"
        },
        "id": "gg2IZeefQLMs",
        "outputId": "d550c74b-ffdf-4f5a-a811-f812d079ef8c"
      },
      "execution_count": 17,
      "outputs": [
        {
          "output_type": "stream",
          "name": "stdout",
          "text": [
            "\u001b[1m313/313\u001b[0m \u001b[32m━━━━━━━━━━━━━━━━━━━━\u001b[0m\u001b[37m\u001b[0m \u001b[1m3s\u001b[0m 9ms/step\n",
            "Métricas de Avaliação:\n",
            "Acurácia: 0.9981\n",
            "Sensibilidade (Recall): 0.9905\n",
            "Especificidade: 0.9990\n",
            "Precisão: 0.9908\n",
            "F-Score: 0.9906\n"
          ]
        }
      ]
    },
    {
      "cell_type": "code",
      "source": [
        "from sklearn.metrics import roc_curve, auc\n",
        "import matplotlib.pyplot as plt\n",
        "\n",
        "# Assumindo que você tem as previsões probabilísticas do seu modelo\n",
        "y_pred_prob = model.predict(test_images)  # Probabilidades para cada classe\n",
        "\n",
        "\n",
        "# A variável 'y_true' contém os rótulos reais (test_labels), e 'y_pred_prob' contém as probabilidades preditas.\n",
        "\n",
        "# Considerando a classe \"1\" como positiva (classe 1 vs não classe 1)\n",
        "y_true_bin = (test_labels == 1).astype(int)  # 1 para classe 1, 0 para outras classes\n",
        "y_pred_class_1 = y_pred_prob[:, 1]  # Probabilidade de ser a classe \"1\" (índice 1)\n",
        "\n",
        "# Calcular as taxas FPR e TPR\n",
        "fpr, tpr, thresholds = roc_curve(y_true_bin, y_pred_class_1)\n",
        "\n",
        "# Calcular a AUC (Área sob a curva)\n",
        "roc_auc = auc(fpr, tpr)\n",
        "\n",
        "# Plotar a curva ROC\n",
        "plt.figure(figsize=(8, 6))\n",
        "plt.plot(fpr, tpr, color='darkorange', lw=2, label=f'ROC curve (AUC = {roc_auc:.2f})')\n",
        "plt.plot([0, 1], [0, 1], color='navy', lw=2, linestyle='--')\n",
        "plt.xlim([0.0, 1.0])\n",
        "plt.ylim([0.0, 1.05])\n",
        "plt.xlabel('False Positive Rate')\n",
        "plt.ylabel('True Positive Rate')\n",
        "plt.title('Receiver Operating Characteristic (ROC) Curve')\n",
        "plt.legend(loc='lower right')\n",
        "plt.show()\n"
      ],
      "metadata": {
        "colab": {
          "base_uri": "https://localhost:8080/",
          "height": 581
        },
        "id": "-5bY02J6T6kh",
        "outputId": "186e9043-1bf8-41cf-ccf1-e4ed854d7e48"
      },
      "execution_count": 18,
      "outputs": [
        {
          "output_type": "stream",
          "name": "stdout",
          "text": [
            "\u001b[1m313/313\u001b[0m \u001b[32m━━━━━━━━━━━━━━━━━━━━\u001b[0m\u001b[37m\u001b[0m \u001b[1m5s\u001b[0m 16ms/step\n"
          ]
        },
        {
          "output_type": "display_data",
          "data": {
            "text/plain": [
              "<Figure size 800x600 with 1 Axes>"
            ],
            "image/png": "[encoded data removed]"
          },
          "metadata": {}
        }
      ]
    },
    {
      "cell_type": "markdown",
      "source": [
        "Este gráfico mostra uma Curva Característica de Operação do Receptor (ROC) para um modelo de classificação binária. Vamos desmembrar o que ele representa:\n",
        "\n",
        "Eixo X (False Positive Rate - Taxa de Falsos Positivos): Representa a proporção de exemplos negativos classificados incorretamente como positivos. Um valor de 0 indica que nenhum negativo foi classificado como positivo, enquanto 1 indica que todos os negativos foram classificados como positivos.\n",
        "\n",
        "Eixo Y (True Positive Rate - Taxa de Verdadeiros Positivos): Representa a proporção de exemplos positivos classificados corretamente como positivos. Um valor de 0 indica que nenhum positivo foi classificado como positivo, enquanto 1 indica que todos os positivos foram classificados como positivos. Também é conhecido como Sensibilidade ou Recall.\n",
        "\n",
        "Curva Laranja (ROC curve): Esta curva traça o desempenho do modelo em diferentes limiares de classificação. Cada ponto na curva representa um par (Taxa de Falsos Positivos, Taxa de Verdadeiros Positivos) para um determinado limiar. A curva ideal seria uma linha reta que parte da origem (0,0) e vai até (0,1) e (1,1), representando um classificador perfeito.\n",
        "\n",
        "Área sob a Curva (AUC - Area Under the Curve): O valor de AUC = 1.00 indica que a área sob a curva laranja é igual a 1. Isso representa um classificador perfeito. Um AUC de 0.5 indica um classificador aleatório, sem poder de predição melhor do que o acaso. Valores entre 0.5 e 1 indicam modelos com diferentes níveis de desempenho.\n",
        "\n",
        "Linha Pontilhada Azul: Representa a linha de um classificador aleatório. Qualquer curva ROC que fique abaixo dessa linha indica um modelo pior do que o acaso.\n",
        "\n",
        "Interpretação do Gráfico:\n",
        "\n",
        "Neste caso específico, a curva ROC está praticamente sobreposta ao canto superior esquerdo do gráfico. Isso significa que:\n",
        "\n",
        "O modelo tem uma Taxa de Verdadeiros Positivos (sensibilidade) próxima de 100%.\n",
        "\n",
        "A Taxa de Falsos Positivos é próxima de 0.\n",
        "\n",
        "Um AUC de 1.00 é excepcionalmente bom, indicando um modelo de classificação binária quase perfeito. Na prática, é muito raro obter um AUC de 1.00, e isso pode sugerir problemas na avaliação do modelo, como sobreajuste (overfitting) ou dados sintéticos muito bem separados. É importante investigar se há algum problema na forma como o modelo foi treinado ou avaliado.\n",
        "\n",
        "Em resumo, o gráfico indica um modelo com desempenho excepcionalmente alto em classificação binária, mas a perfeição alcançada deve ser analisada cuidadosamente para garantir que não seja um artefato de sobreajuste ou erro na metodologia."
      ],
      "metadata": {
        "id": "TnZaUr9KVC6V"
      }
    },
    {
      "cell_type": "code",
      "source": [],
      "metadata": {
        "id": "En65MI7-VMAP"
      },
      "execution_count": null,
      "outputs": []
    }
  ]
}