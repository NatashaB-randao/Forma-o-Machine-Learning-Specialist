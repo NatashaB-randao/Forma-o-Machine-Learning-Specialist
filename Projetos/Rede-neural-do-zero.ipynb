{
 "cells": [
  {
   "cell_type": "markdown",
   "metadata": {},
   "source": [
    "O banco de dados MNIST é um grande banco de dados de dígitos manuscritos, comumente usado para treinar vários sistemas de processamento de imagens. O banco de dados também é amplamente utilizado para treinamento e teste no campo do aprendizado de máquina.\n",
    "\n",
    "A base de dados do MNIST contém 60.000 imagens de preparação e 10.000 imagens de teste. \n",
    "\n",
    "É um tipo de Rede Neural usada para resolver problemas numéricos - números escritos à mão. "
   ]
  },
  {
   "cell_type": "code",
   "execution_count": 18,
   "metadata": {},
   "outputs": [],
   "source": [
    "import numpy as np\n",
    "import torch\n",
    "import torch.nn.functional as F \n",
    "import torchvision\n",
    "import matplotlib.pyplot as plt\n",
    "from time import time\n",
    "from torchvision import datasets, transforms\n",
    "from torch import nn, optim\n"
   ]
  },
  {
   "cell_type": "code",
   "execution_count": 19,
   "metadata": {},
   "outputs": [],
   "source": [
    "transform = transforms.ToTensor() #definindo a conversão de imagem para tensor\n",
    "\n",
    "trainset = datasets.MNIST('./MNIST_data/', download=True, train=True, transform=transform) # Carrega a parte de treino do dataset\n",
    "trainloader = torch.utils.data.DataLoader(trainset, batch_size=64, shuffle=True) # Carrega um buffer para pegar os dados por partes\n",
    "\n",
    "valset = datasets.MNIST('./MNIST_data/', download=True, train=True, transform=transform)  # Carrega a parte de validação\n",
    "valloader = torch.utils.data.DataLoader(trainset, batch_size=64, shuffle=True)   # Cria um buffer para pegar os dados por partes"
   ]
  },
  {
   "cell_type": "code",
   "execution_count": 20,
   "metadata": {},
   "outputs": [
    {
     "data": {
      "image/png": "[encoded data removed]",
      "text/plain": [
       "<Figure size 640x480 with 1 Axes>"
      ]
     },
     "metadata": {},
     "output_type": "display_data"
    }
   ],
   "source": [
    "dataiter = iter(trainloader)\n",
    "imagens, etiquetas = next(dataiter)\n",
    "plt.imshow(imagens[0].numpy().squeeze(), cmap='gray_r');  # Exibe a primeira imagem do lote\n"
   ]
  },
  {
   "cell_type": "code",
   "execution_count": 21,
   "metadata": {},
   "outputs": [
    {
     "name": "stdout",
     "output_type": "stream",
     "text": [
      "torch.Size([1, 28, 28])\n",
      "torch.Size([])\n"
     ]
    }
   ],
   "source": [
    "print(imagens[0].shape)     #para verificar as dimensões do tensor de cada imagem\n",
    "print(etiquetas[0].shape)   #para verificar as dimensões do tensor de cada etiqueta"
   ]
  },
  {
   "cell_type": "code",
   "execution_count": 22,
   "metadata": {},
   "outputs": [],
   "source": [
    "class Modelo(nn.Module):\n",
    "    def __init__(self):\n",
    "        super(Modelo, self).__init__()\n",
    "        self.linear1 = nn.Linear(28*28, 128)    # Camada de entrada, 784 neurônios que se ligam a 128\n",
    "        self.linear2 = nn.Linear(128, 64)       # Camada interna 1, 128 neurônios que se ligam a 64\n",
    "        self.linear3 = nn.Linear(64, 10)        # Camada interna 2, 64 neurônios que se ligam a 10\n",
    "        # Para a Camada de saída não é necessário definir nada, pois só precisamos pegar o output da camada interna 2\n",
    "\n",
    "    def forward(self, X):\n",
    "        X = F.relu(self.linear1(X))     # Função de Ativação da Camada de Entrada para a Camada Interna 1 \n",
    "        X = F.relu(self.linear2(X))     # Função de Ativação da Camada Interna 1 para a Camada Interna 2\n",
    "        X = F.relu(self.linear3(X))     # Função de Ativação da Camada Interna 2 para a Camada de Saída, nesse caso f(x) = x\n",
    "        return F.log_softmax(X, dim=1)  # Dados utilizados para calcular a perda"
   ]
  },
  {
   "cell_type": "code",
   "execution_count": 23,
   "metadata": {},
   "outputs": [],
   "source": [
    "def treino(modelo, trainloader, device):\n",
    "\n",
    "    otimizador = optim.SGD(modelo.parameters(), lr=0.01, momentum=0.5)      # Define a Política de Atualização dos Pesos e da Bias\n",
    "    inicio = time()     # Timer para sabermos quanto tempo levou o treino\n",
    "\n",
    "    criterio = nn.NLLLoss()     # Definindo o Critério para Calcular a Perda\n",
    "    EPOCHS = 10                 # Número de epochs que o algoritmo rodará\n",
    "    modelo.train()              # Ativando o Modo de Treinamento do Modelo\n",
    "\n",
    "    for epoch in range(EPOCHS):\n",
    "        perda_acumulada = 0     # Inicialização da Perda Acumulada da epoch em questão\n",
    "\n",
    "        for imagens, etiquetas in trainloader:\n",
    "\n",
    "            imagens = imagens.view(imagens.shape[0], -1)    # Convertendo as imagens para \"vetores\" de 28*28 casas para ficarem compatíveis com a  \n",
    "            otimizador.zero_grad()                          # Zerando os gradientes por conta do ciclo anterior\n",
    "\n",
    "            output = modelo(imagens.to(device))             # Colocando os dados no modelo\n",
    "            perda_instantanea = criterio(output, etiquetas.to(device))      # Calculando a perda da epoch em questão\n",
    "\n",
    "            perda_instantanea.backward()                    # Back Propagation a partir da perda\n",
    "\n",
    "            otimizador.step()                               # Atualizando os pesos e a bias\n",
    "\n",
    "            perda_acumulada += perda_instantanea.item()     # Atualização da Perda Acumulada\n",
    "\n",
    "\n",
    "        else:\n",
    "            print(\"Epoch {} - Perda resultante: {}\".format(epoch+1, perda_acumulada/len(trainloader)))\n",
    "    print(\"\\nTempo de treino (em minutos) =\", (time()-inicio/60))\n"
   ]
  },
  {
   "cell_type": "code",
   "execution_count": 24,
   "metadata": {},
   "outputs": [],
   "source": [
    "def validacao(modelo, valloader, device):\n",
    "    conta_corretas, conta_todas = 0, 0\n",
    "    for imagens, etiquetas in valloader:\n",
    "        for i in range(len(etiquetas)):\n",
    "            img = imagens[i].view(1, 784)\n",
    "            # Desativar o autograd para acelerar a validação. Grafos computacionais dinâmicos tem um custo alto de processamento\n",
    "            with torch.no_grad():\n",
    "                logps = modelo(img.to(device))          # Converte output para escala normal(lembrando que é um tensor)\n",
    "                probab = list(logps.cpu().numpy()[0])\n",
    "                etiqueta_pred = probab.index(max(probab))   # Converte o tensor em um número, no caso, o número que o modelo previu como correto\n",
    "                etiqueta_certa = etiquetas.numpy()[i]\n",
    "                if etiqueta_certa == etiqueta_pred:        # Compara a previsão com o valor correto\n",
    "                    conta_corretas += 1\n",
    "                conta_todas += 1\n",
    "\n",
    "        print(\"Total de imagens testada =\", conta_todas)\n",
    "        print(\"Precisão do modelo = {}%\".format(conta_corretas*100/conta_todas))\n",
    "\n"
   ]
  },
  {
   "cell_type": "code",
   "execution_count": 25,
   "metadata": {},
   "outputs": [
    {
     "data": {
      "text/plain": [
       "Modelo(\n",
       "  (linear1): Linear(in_features=784, out_features=128, bias=True)\n",
       "  (linear2): Linear(in_features=128, out_features=64, bias=True)\n",
       "  (linear3): Linear(in_features=64, out_features=10, bias=True)\n",
       ")"
      ]
     },
     "execution_count": 25,
     "metadata": {},
     "output_type": "execute_result"
    }
   ],
   "source": [
    "modelo = Modelo()\n",
    "device = torch.device(\"cuda\" if torch.cuda.is_available() else \"cpu\")\n",
    "modelo.to(device)"
   ]
  },
  {
   "cell_type": "code",
   "execution_count": null,
   "metadata": {},
   "outputs": [],
   "source": []
  }
 ],
 "metadata": {
  "kernelspec": {
   "display_name": "Python 3",
   "language": "python",
   "name": "python3"
  },
  "language_info": {
   "codemirror_mode": {
    "name": "ipython",
    "version": 3
   },
   "file_extension": ".py",
   "mimetype": "text/x-python",
   "name": "python",
   "nbconvert_exporter": "python",
   "pygments_lexer": "ipython3",
   "version": "3.12.0"
  }
 },
 "nbformat": 4,
 "nbformat_minor": 2
}
