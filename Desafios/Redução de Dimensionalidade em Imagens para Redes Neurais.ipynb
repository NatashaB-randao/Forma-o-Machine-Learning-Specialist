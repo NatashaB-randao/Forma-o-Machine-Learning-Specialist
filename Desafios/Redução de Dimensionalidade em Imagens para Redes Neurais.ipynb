{
 "cells": [
  {
   "cell_type": "markdown",
   "metadata": {},
   "source": [
    "### Descrição do Desafio\n",
    "Seguindo o exemplo do algoritmo de binarização apresentado em nossa última aula, realize a implementação em Python para transformar uma imagem colorida para níveis de cinza (0 a 255) e para binarizada (0 e 255), preto e branco.  \n",
    "\n"
   ]
  },
  {
   "cell_type": "code",
   "execution_count": 4,
   "metadata": {},
   "outputs": [],
   "source": [
    "import numpy as np\n",
    "from PIL import Image\n",
    "\n",
    "def rgb_to_gray(image):\n",
    "\n",
    "    \"\"\"\n",
    "    Converte uma imagem colorida em tons de cinza.\n",
    "\n",
    "    Args:\n",
    "    image (numpy.ndarray): Imagem colorida (array numpy)\n",
    "\n",
    "    Returns:\n",
    "    numpy.ndarray: Imagem em tons de cinza\n",
    "    \"\"\"\n",
    "\n",
    "    # Extrai os canais de cor da imagem\n",
    "\n",
    "    r, g, b = image[:,:,0], image[:,:1], image[:,:,2]\n",
    "\n",
    "    # Converte para tons de cinza usando a fórmula padrão\n",
    "    gray = 0.2989 * r + 0.5970 * g + 0.1140 * b\n",
    "\n",
    "    return gray.astype(np.uint8)\n",
    "\n",
    "def binarize_image(image, threshold=128):\n",
    "    \"\"\"\n",
    "    Binariza uma imagem em tons de cinza.\n",
    "\n",
    "    Args:\n",
    "    image (numpy.ndarray): Imagem em tons de cinza (array numpy).\n",
    "    threshold (int): Limiar para binarização (0 a 255).\n",
    "\n",
    "    Returns:\n",
    "    numpy.ndarray: Imagem binarizada.\n",
    "    \"\"\"\n",
    "\n",
    "    binary_image = np.where(image >= threshold, 255, 0)\n",
    "    return binary_image.astype(np.uint8)\n",
    "\n",
    "\n",
    "# Carrega a imagem\n",
    "image_path = \"Hugh_Laurie.jpeg\"\n",
    "original_image = np.array(Image.open(image_path))\n",
    "\n",
    "# Converte a imagem para tons de cinza\n",
    "gray_image = rgb_to_gray(original_image)\n",
    "\n",
    "# Binariza a imagem\n",
    "binary_threshold = 128      # Limiar para binarização\n",
    "binary_image = binarize_image(gray_image, threshold=binary_threshold)\n",
    "\n",
    "# Salva as imagens\n",
    "gray_image_pil = Image.fromarray(gray_image)\n",
    "gray_image_pil.save(\"gray_Hug_Laurie.jpeg\")\n",
    "\n",
    "binarize_image_pil = Image.fromarray(binary_image)\n",
    "binarize_image_pil.save(\"binary_Hugh_Laurie.jpeg\")\n",
    "\n",
    "print(\"Imagens salvas com sucessor!\")\n"
   ]
  },
  {
   "cell_type": "code",
   "execution_count": null,
   "metadata": {},
   "outputs": [],
   "source": []
  }
 ],
 "metadata": {
  "kernelspec": {
   "display_name": "Python 3",
   "language": "python",
   "name": "python3"
  },
  "language_info": {
   "codemirror_mode": {
    "name": "ipython",
    "version": 3
   },
   "file_extension": ".py",
   "mimetype": "text/x-python",
   "name": "python",
   "nbconvert_exporter": "python",
   "pygments_lexer": "ipython3",
   "version": "3.12.0"
  }
 },
 "nbformat": 4,
 "nbformat_minor": 2
}
